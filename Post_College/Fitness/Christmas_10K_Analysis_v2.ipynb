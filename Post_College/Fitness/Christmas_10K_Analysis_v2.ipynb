{
 "cells": [
  {
   "cell_type": "markdown",
   "metadata": {},
   "source": [
    "### Analysis of Christmas 10K run on December 9, 2018 (Newport, RI)\n",
    "- Data Source: MapMyRun App\n",
    "- Created - 01.03.2019\n",
    "- Last Edited - 02.13.2019"
   ]
  },
  {
   "cell_type": "code",
   "execution_count": 1,
   "metadata": {},
   "outputs": [],
   "source": [
    "import numpy as np\n",
    "import pandas as pd\n",
    "import matplotlib.pyplot as plt\n",
    "%matplotlib inline"
   ]
  },
  {
   "cell_type": "code",
   "execution_count": 2,
   "metadata": {},
   "outputs": [
    {
     "data": {
      "text/html": [
       "<div>\n",
       "<style scoped>\n",
       "    .dataframe tbody tr th:only-of-type {\n",
       "        vertical-align: middle;\n",
       "    }\n",
       "\n",
       "    .dataframe tbody tr th {\n",
       "        vertical-align: top;\n",
       "    }\n",
       "\n",
       "    .dataframe thead th {\n",
       "        text-align: right;\n",
       "    }\n",
       "</style>\n",
       "<table border=\"1\" class=\"dataframe\">\n",
       "  <thead>\n",
       "    <tr style=\"text-align: right;\">\n",
       "      <th></th>\n",
       "      <th>Distance from start(meters)</th>\n",
       "      <th>elevation(meters)</th>\n",
       "      <th>accumulated ascent(meters)</th>\n",
       "      <th>accumulated descent(meters)</th>\n",
       "    </tr>\n",
       "  </thead>\n",
       "  <tbody>\n",
       "    <tr>\n",
       "      <th>0</th>\n",
       "      <td>0.00</td>\n",
       "      <td>-7.82</td>\n",
       "      <td>0.0</td>\n",
       "      <td>0.00</td>\n",
       "    </tr>\n",
       "    <tr>\n",
       "      <th>1</th>\n",
       "      <td>10.33</td>\n",
       "      <td>-8.15</td>\n",
       "      <td>0.0</td>\n",
       "      <td>0.00</td>\n",
       "    </tr>\n",
       "    <tr>\n",
       "      <th>2</th>\n",
       "      <td>21.51</td>\n",
       "      <td>-8.34</td>\n",
       "      <td>0.0</td>\n",
       "      <td>-0.33</td>\n",
       "    </tr>\n",
       "    <tr>\n",
       "      <th>3</th>\n",
       "      <td>32.90</td>\n",
       "      <td>-8.55</td>\n",
       "      <td>0.0</td>\n",
       "      <td>-0.52</td>\n",
       "    </tr>\n",
       "    <tr>\n",
       "      <th>4</th>\n",
       "      <td>44.30</td>\n",
       "      <td>-8.85</td>\n",
       "      <td>0.0</td>\n",
       "      <td>-0.73</td>\n",
       "    </tr>\n",
       "  </tbody>\n",
       "</table>\n",
       "</div>"
      ],
      "text/plain": [
       "   Distance from start(meters)  elevation(meters)  accumulated ascent(meters)  \\\n",
       "0                         0.00              -7.82                         0.0   \n",
       "1                        10.33              -8.15                         0.0   \n",
       "2                        21.51              -8.34                         0.0   \n",
       "3                        32.90              -8.55                         0.0   \n",
       "4                        44.30              -8.85                         0.0   \n",
       "\n",
       "   accumulated descent(meters)  \n",
       "0                         0.00  \n",
       "1                         0.00  \n",
       "2                        -0.33  \n",
       "3                        -0.52  \n",
       "4                        -0.73  "
      ]
     },
     "execution_count": 2,
     "metadata": {},
     "output_type": "execute_result"
    }
   ],
   "source": [
    "#import data\n",
    "raw_data = pd.read_csv('route_2338584520.csv')\n",
    "raw_data.head(5)"
   ]
  },
  {
   "cell_type": "code",
   "execution_count": 3,
   "metadata": {},
   "outputs": [],
   "source": [
    "#Compute the maximum, minimum, and average elevation\n",
    "max_elevation = np.max(raw_data[\"elevation(meters)\"])\n",
    "min_elevation = np.min(raw_data[\"elevation(meters)\"])\n",
    "avg_elevation = np.average(raw_data[\"elevation(meters)\"])"
   ]
  },
  {
   "cell_type": "code",
   "execution_count": 4,
   "metadata": {},
   "outputs": [
    {
     "data": {
      "image/png": "[encoded data removed]",
      "text/plain": [
       "<Figure size 864x216 with 1 Axes>"
      ]
     },
     "metadata": {
      "needs_background": "light"
     },
     "output_type": "display_data"
    }
   ],
   "source": [
    "fig_dist_vs_elev = plt.figure(figsize=(12,3))\n",
    "axes = fig_dist_vs_elev.add_axes([0.1,0.1,0.8,0.8])\n",
    "axes.plot(raw_data[\"Distance from start(meters)\"],raw_data[\"elevation(meters)\"], color='red', linewidth=2.0, label='Elevation')\n",
    "\n",
    "#https://matplotlib.org/api/_as_gen/matplotlib.axes.Axes.set_title.html\n",
    "axes.set_title(label=\"Distance from Start vs. Elevation\", loc='center', fontweight='bold')\n",
    "axes.set_xlabel(\"Distance from Start (meters)\")\n",
    "axes.set_ylabel(\"Elevation (meters)\")\n",
    "\n",
    "#Annote the graph with a horizontal line showing the average elevation of the course\n",
    "axes.axhline(y=avg_elevation,xmin=raw_data[\"Distance from start(meters)\"][0],xmax=raw_data[\"Distance from start(meters)\"][-1:], \\\n",
    "            label='Average Elevation')\n",
    "\n",
    "axes.legend(loc='best')\n",
    "\n",
    "plt.show()"
   ]
  },
  {
   "cell_type": "code",
   "execution_count": null,
   "metadata": {},
   "outputs": [],
   "source": []
  }
 ],
 "metadata": {
  "kernelspec": {
   "display_name": "Python 3",
   "language": "python",
   "name": "python3"
  },
  "language_info": {
   "codemirror_mode": {
    "name": "ipython",
    "version": 3
   },
   "file_extension": ".py",
   "mimetype": "text/x-python",
   "name": "python",
   "nbconvert_exporter": "python",
   "pygments_lexer": "ipython3",
   "version": "3.6.10"
  }
 },
 "nbformat": 4,
 "nbformat_minor": 4
}
