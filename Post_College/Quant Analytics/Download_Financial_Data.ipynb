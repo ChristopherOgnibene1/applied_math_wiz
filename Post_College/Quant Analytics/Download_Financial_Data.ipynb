{
 "cells": [
  {
   "cell_type": "markdown",
   "metadata": {},
   "source": [
    "#### Notebook: Downloading Financial Data\n",
    "- Created: 2020.08.07\n",
    "- Last Edited: 2021.01.17"
   ]
  },
  {
   "cell_type": "markdown",
   "metadata": {},
   "source": [
    "##### Import libraries"
   ]
  },
  {
   "cell_type": "code",
   "execution_count": 1,
   "metadata": {},
   "outputs": [],
   "source": [
    "import pandas as pd\n",
    "from datetime import date, datetime\n",
    "import time\n",
    "import requests"
   ]
  },
  {
   "cell_type": "markdown",
   "metadata": {},
   "source": [
    "##### Download equity data from Yahoo Finance"
   ]
  },
  {
   "cell_type": "code",
   "execution_count": 2,
   "metadata": {},
   "outputs": [
    {
     "name": "stdout",
     "output_type": "stream",
     "text": [
      "Ticker symbols processed successfully\n",
      "['SPY', 'AAPL', 'INTC']\n"
     ]
    }
   ],
   "source": [
    "try:\n",
    "    with open('ticker_symbols_sample.txt', 'r') as ticker_symbols:\n",
    "        tickers = [symbol.rstrip('\\n') for symbol in ticker_symbols.readlines()[1:]]\n",
    "except Exception:\n",
    "    print(\"Error occurred while processing ticker symbols.\")\n",
    "else:\n",
    "    print(\"Ticker symbols processed successfully\\n{}\".format(tickers))\n",
    "\n",
    "# Define start date, end date, and frequency of data to obtain\n",
    "start_date = date(2007, 3, 1)\n",
    "end_date = date(2019, 11, 29)\n",
    "freq = \"1d\""
   ]
  },
  {
   "cell_type": "code",
   "execution_count": 3,
   "metadata": {},
   "outputs": [],
   "source": [
    "# convert start and end dates to epoch time\n",
    "start_date_epoch = int(time.mktime(start_date.timetuple()))\n",
    "end_date_epoch = int(time.mktime(end_date.timetuple()))\n",
    "\n",
    "count_tickers = 0\n",
    "\n",
    "# make API call to Yahoo Finance and read into a pandas dataframe the returned results\n",
    "for ticker in tickers:\n",
    "    count_tickers += 1\n",
    "    data_url = \"https://query1.finance.yahoo.com/v7/finance/download/{}?period1={}&period2={}&interval={}&events=history&includeAdjustedClose=true\".format(ticker, start_date_epoch, end_date_epoch, freq)\n",
    "    if count_tickers == 1:\n",
    "        equity_data = pd.read_csv(data_url, usecols=[\"Date\", \"Close\"])\n",
    "        equity_data.rename(columns={\"Close\":ticker}, inplace=True)\n",
    "    else:\n",
    "        equity_data[ticker] = pd.read_csv(data_url, usecols=[\"Close\"])"
   ]
  },
  {
   "cell_type": "markdown",
   "metadata": {},
   "source": [
    "##### Preview of data"
   ]
  },
  {
   "cell_type": "code",
   "execution_count": 4,
   "metadata": {},
   "outputs": [
    {
     "data": {
      "text/html": [
       "<div>\n",
       "<style scoped>\n",
       "    .dataframe tbody tr th:only-of-type {\n",
       "        vertical-align: middle;\n",
       "    }\n",
       "\n",
       "    .dataframe tbody tr th {\n",
       "        vertical-align: top;\n",
       "    }\n",
       "\n",
       "    .dataframe thead th {\n",
       "        text-align: right;\n",
       "    }\n",
       "</style>\n",
       "<table border=\"1\" class=\"dataframe\">\n",
       "  <thead>\n",
       "    <tr style=\"text-align: right;\">\n",
       "      <th></th>\n",
       "      <th>Date</th>\n",
       "      <th>SPY</th>\n",
       "      <th>AAPL</th>\n",
       "      <th>INTC</th>\n",
       "    </tr>\n",
       "  </thead>\n",
       "  <tbody>\n",
       "    <tr>\n",
       "      <th>0</th>\n",
       "      <td>2007-03-01</td>\n",
       "      <td>140.509995</td>\n",
       "      <td>3.109286</td>\n",
       "      <td>19.590000</td>\n",
       "    </tr>\n",
       "    <tr>\n",
       "      <th>1</th>\n",
       "      <td>2007-03-02</td>\n",
       "      <td>138.669998</td>\n",
       "      <td>3.050357</td>\n",
       "      <td>19.219999</td>\n",
       "    </tr>\n",
       "    <tr>\n",
       "      <th>2</th>\n",
       "      <td>2007-03-05</td>\n",
       "      <td>137.350006</td>\n",
       "      <td>3.082857</td>\n",
       "      <td>19.110001</td>\n",
       "    </tr>\n",
       "    <tr>\n",
       "      <th>3</th>\n",
       "      <td>2007-03-06</td>\n",
       "      <td>139.699997</td>\n",
       "      <td>3.149643</td>\n",
       "      <td>19.400000</td>\n",
       "    </tr>\n",
       "    <tr>\n",
       "      <th>4</th>\n",
       "      <td>2007-03-07</td>\n",
       "      <td>139.559998</td>\n",
       "      <td>3.132857</td>\n",
       "      <td>19.120001</td>\n",
       "    </tr>\n",
       "  </tbody>\n",
       "</table>\n",
       "</div>"
      ],
      "text/plain": [
       "         Date         SPY      AAPL       INTC\n",
       "0  2007-03-01  140.509995  3.109286  19.590000\n",
       "1  2007-03-02  138.669998  3.050357  19.219999\n",
       "2  2007-03-05  137.350006  3.082857  19.110001\n",
       "3  2007-03-06  139.699997  3.149643  19.400000\n",
       "4  2007-03-07  139.559998  3.132857  19.120001"
      ]
     },
     "execution_count": 4,
     "metadata": {},
     "output_type": "execute_result"
    }
   ],
   "source": [
    "equity_data.head()"
   ]
  },
  {
   "cell_type": "markdown",
   "metadata": {},
   "source": [
    "##### Export Output"
   ]
  },
  {
   "cell_type": "code",
   "execution_count": 5,
   "metadata": {},
   "outputs": [],
   "source": [
    "# Export to Excel\n",
    "with pd.ExcelWriter(\"Output/Financial_Data_{}.xlsx\".format(date.today())) as output:\n",
    "    equity_data.to_excel(output, sheet_name=\"Equity_Data\")"
   ]
  },
  {
   "cell_type": "markdown",
   "metadata": {},
   "source": []
  }
 ],
 "metadata": {
  "kernelspec": {
   "display_name": "Python 3",
   "language": "python",
   "name": "python3"
  },
  "language_info": {
   "codemirror_mode": {
    "name": "ipython",
    "version": 3
   },
   "file_extension": ".py",
   "mimetype": "text/x-python",
   "name": "python",
   "nbconvert_exporter": "python",
   "pygments_lexer": "ipython3",
   "version": "3.8.3"
  }
 },
 "nbformat": 4,
 "nbformat_minor": 4
}
