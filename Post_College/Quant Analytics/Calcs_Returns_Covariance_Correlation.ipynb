{
 "cells": [
  {
   "cell_type": "markdown",
   "metadata": {},
   "source": [
    "#### Calculations:  Returns, Covariance, and Correlation\n",
    "- Created: 2020.08.07\n",
    "- Last Edited: 2021.01.18"
   ]
  },
  {
   "cell_type": "code",
   "execution_count": 20,
   "metadata": {},
   "outputs": [],
   "source": [
    "# import libraries\n",
    "import pandas as pd\n",
    "import numpy as np\n",
    "from datetime import date, datetime\n",
    "\n",
    "import matplotlib.pyplot as plt\n",
    "%matplotlib inline"
   ]
  },
  {
   "cell_type": "markdown",
   "metadata": {},
   "source": [
    "##### Functions"
   ]
  },
  {
   "cell_type": "code",
   "execution_count": 21,
   "metadata": {},
   "outputs": [],
   "source": [
    "# Function to compute an asset's expected return\n",
    "def expected_return(historical_returns):\n",
    "    \"\"\"\n",
    "    Function computes an asset's expected return\n",
    "    \"\"\"\n",
    "    T = (~historical_returns.isna()).count() # number of observations\n",
    "    return np.round(((1/T) * np.sum(historical_returns)) * 100, 4)"
   ]
  },
  {
   "cell_type": "code",
   "execution_count": 22,
   "metadata": {},
   "outputs": [],
   "source": [
    "# Function to compute an asset's variance (or volatility)\n",
    "def var_return(historical_returns, expected_return):\n",
    "    \"\"\"\n",
    "    Function computes an asset's variance\n",
    "    \"\"\"\n",
    "    T = (~historical_returns.isna()).count() # number of observations\n",
    "    return np.round((1/(T-1)) * np.sum((historical_returns - expected_return)**2) * 100, 4)"
   ]
  },
  {
   "cell_type": "markdown",
   "metadata": {},
   "source": [
    "##### Import Equity Data"
   ]
  },
  {
   "cell_type": "code",
   "execution_count": 23,
   "metadata": {},
   "outputs": [
    {
     "data": {
      "text/html": [
       "<div>\n",
       "<style scoped>\n",
       "    .dataframe tbody tr th:only-of-type {\n",
       "        vertical-align: middle;\n",
       "    }\n",
       "\n",
       "    .dataframe tbody tr th {\n",
       "        vertical-align: top;\n",
       "    }\n",
       "\n",
       "    .dataframe thead th {\n",
       "        text-align: right;\n",
       "    }\n",
       "</style>\n",
       "<table border=\"1\" class=\"dataframe\">\n",
       "  <thead>\n",
       "    <tr style=\"text-align: right;\">\n",
       "      <th></th>\n",
       "      <th>SPY</th>\n",
       "      <th>AAPL</th>\n",
       "      <th>INTC</th>\n",
       "    </tr>\n",
       "    <tr>\n",
       "      <th>Date</th>\n",
       "      <th></th>\n",
       "      <th></th>\n",
       "      <th></th>\n",
       "    </tr>\n",
       "  </thead>\n",
       "  <tbody>\n",
       "    <tr>\n",
       "      <th>2007-03-01</th>\n",
       "      <td>140.509995</td>\n",
       "      <td>3.109286</td>\n",
       "      <td>19.590000</td>\n",
       "    </tr>\n",
       "    <tr>\n",
       "      <th>2007-03-02</th>\n",
       "      <td>138.669998</td>\n",
       "      <td>3.050357</td>\n",
       "      <td>19.219999</td>\n",
       "    </tr>\n",
       "    <tr>\n",
       "      <th>2007-03-05</th>\n",
       "      <td>137.350006</td>\n",
       "      <td>3.082857</td>\n",
       "      <td>19.110001</td>\n",
       "    </tr>\n",
       "    <tr>\n",
       "      <th>2007-03-06</th>\n",
       "      <td>139.699997</td>\n",
       "      <td>3.149643</td>\n",
       "      <td>19.400000</td>\n",
       "    </tr>\n",
       "    <tr>\n",
       "      <th>2007-03-07</th>\n",
       "      <td>139.559998</td>\n",
       "      <td>3.132857</td>\n",
       "      <td>19.120001</td>\n",
       "    </tr>\n",
       "  </tbody>\n",
       "</table>\n",
       "</div>"
      ],
      "text/plain": [
       "                   SPY      AAPL       INTC\n",
       "Date                                       \n",
       "2007-03-01  140.509995  3.109286  19.590000\n",
       "2007-03-02  138.669998  3.050357  19.219999\n",
       "2007-03-05  137.350006  3.082857  19.110001\n",
       "2007-03-06  139.699997  3.149643  19.400000\n",
       "2007-03-07  139.559998  3.132857  19.120001"
      ]
     },
     "execution_count": 23,
     "metadata": {},
     "output_type": "execute_result"
    }
   ],
   "source": [
    "equity_data = pd.read_excel(\"../Output/Equity_Data_2021-01-18.xlsx\", index_col=\"Date\")\n",
    "equity_data.head()"
   ]
  },
  {
   "cell_type": "markdown",
   "metadata": {},
   "source": [
    "##### Compute Daily Returns (Two Ways)"
   ]
  },
  {
   "cell_type": "code",
   "execution_count": 24,
   "metadata": {},
   "outputs": [],
   "source": [
    "# pre-processing: fill any 'NA' values with the prior non-NA value\n",
    "equity_data.fillna(method='ffill', inplace=True)"
   ]
  },
  {
   "cell_type": "code",
   "execution_count": 25,
   "metadata": {},
   "outputs": [
    {
     "data": {
      "text/html": [
       "<div>\n",
       "<style scoped>\n",
       "    .dataframe tbody tr th:only-of-type {\n",
       "        vertical-align: middle;\n",
       "    }\n",
       "\n",
       "    .dataframe tbody tr th {\n",
       "        vertical-align: top;\n",
       "    }\n",
       "\n",
       "    .dataframe thead th {\n",
       "        text-align: right;\n",
       "    }\n",
       "</style>\n",
       "<table border=\"1\" class=\"dataframe\">\n",
       "  <thead>\n",
       "    <tr style=\"text-align: right;\">\n",
       "      <th></th>\n",
       "      <th>SPY</th>\n",
       "      <th>AAPL</th>\n",
       "      <th>INTC</th>\n",
       "    </tr>\n",
       "  </thead>\n",
       "  <tbody>\n",
       "    <tr>\n",
       "      <th>2007-01-02</th>\n",
       "      <td>0.013182</td>\n",
       "      <td>0.019134</td>\n",
       "      <td>0.019068</td>\n",
       "    </tr>\n",
       "    <tr>\n",
       "      <th>2007-01-05</th>\n",
       "      <td>0.009565</td>\n",
       "      <td>-0.010598</td>\n",
       "      <td>0.005740</td>\n",
       "    </tr>\n",
       "    <tr>\n",
       "      <th>2007-01-06</th>\n",
       "      <td>-0.016965</td>\n",
       "      <td>-0.021432</td>\n",
       "      <td>-0.015061</td>\n",
       "    </tr>\n",
       "    <tr>\n",
       "      <th>2007-01-07</th>\n",
       "      <td>0.001003</td>\n",
       "      <td>0.005344</td>\n",
       "      <td>0.014538</td>\n",
       "    </tr>\n",
       "    <tr>\n",
       "      <th>2007-01-08</th>\n",
       "      <td>-0.008420</td>\n",
       "      <td>-0.003187</td>\n",
       "      <td>-0.005737</td>\n",
       "    </tr>\n",
       "  </tbody>\n",
       "</table>\n",
       "</div>"
      ],
      "text/plain": [
       "                 SPY      AAPL      INTC\n",
       "2007-01-02  0.013182  0.019134  0.019068\n",
       "2007-01-05  0.009565 -0.010598  0.005740\n",
       "2007-01-06 -0.016965 -0.021432 -0.015061\n",
       "2007-01-07  0.001003  0.005344  0.014538\n",
       "2007-01-08 -0.008420 -0.003187 -0.005737"
      ]
     },
     "execution_count": 25,
     "metadata": {},
     "output_type": "execute_result"
    }
   ],
   "source": [
    "# Daily returns: log returns\n",
    "log_returns_matrix = pd.DataFrame(index=equity_data.index)\n",
    "for ticker in equity_data.columns:\n",
    "    log_returns_matrix[ticker] = np.log(equity_data[ticker].shift(1) / equity_data[ticker])\n",
    "\n",
    "log_returns_matrix.dropna(axis=0, inplace=True) # drop na values\n",
    "log_returns_matrix.index = [datetime.strptime(dt, '%Y-%M-%d').date() \n",
    "                            for dt in log_returns_matrix.index]\n",
    "log_returns_matrix.head()"
   ]
  },
  {
   "cell_type": "code",
   "execution_count": 26,
   "metadata": {},
   "outputs": [
    {
     "data": {
      "text/html": [
       "<div>\n",
       "<style scoped>\n",
       "    .dataframe tbody tr th:only-of-type {\n",
       "        vertical-align: middle;\n",
       "    }\n",
       "\n",
       "    .dataframe tbody tr th {\n",
       "        vertical-align: top;\n",
       "    }\n",
       "\n",
       "    .dataframe thead th {\n",
       "        text-align: right;\n",
       "    }\n",
       "</style>\n",
       "<table border=\"1\" class=\"dataframe\">\n",
       "  <thead>\n",
       "    <tr style=\"text-align: right;\">\n",
       "      <th></th>\n",
       "      <th>SPY</th>\n",
       "      <th>AAPL</th>\n",
       "      <th>INTC</th>\n",
       "    </tr>\n",
       "  </thead>\n",
       "  <tbody>\n",
       "    <tr>\n",
       "      <th>2007-01-02</th>\n",
       "      <td>-0.013095</td>\n",
       "      <td>-0.018953</td>\n",
       "      <td>-0.018887</td>\n",
       "    </tr>\n",
       "    <tr>\n",
       "      <th>2007-01-05</th>\n",
       "      <td>-0.009519</td>\n",
       "      <td>0.010654</td>\n",
       "      <td>-0.005723</td>\n",
       "    </tr>\n",
       "    <tr>\n",
       "      <th>2007-01-06</th>\n",
       "      <td>0.017110</td>\n",
       "      <td>0.021664</td>\n",
       "      <td>0.015175</td>\n",
       "    </tr>\n",
       "    <tr>\n",
       "      <th>2007-01-07</th>\n",
       "      <td>-0.001002</td>\n",
       "      <td>-0.005329</td>\n",
       "      <td>-0.014433</td>\n",
       "    </tr>\n",
       "    <tr>\n",
       "      <th>2007-01-08</th>\n",
       "      <td>0.008455</td>\n",
       "      <td>0.003192</td>\n",
       "      <td>0.005753</td>\n",
       "    </tr>\n",
       "  </tbody>\n",
       "</table>\n",
       "</div>"
      ],
      "text/plain": [
       "                 SPY      AAPL      INTC\n",
       "2007-01-02 -0.013095 -0.018953 -0.018887\n",
       "2007-01-05 -0.009519  0.010654 -0.005723\n",
       "2007-01-06  0.017110  0.021664  0.015175\n",
       "2007-01-07 -0.001002 -0.005329 -0.014433\n",
       "2007-01-08  0.008455  0.003192  0.005753"
      ]
     },
     "execution_count": 26,
     "metadata": {},
     "output_type": "execute_result"
    }
   ],
   "source": [
    "# Daily returns: percent change\n",
    "pct_chg_returns_matrix = pd.DataFrame(index=equity_data.index)\n",
    "for ticker in equity_data.columns:\n",
    "    pct_chg_returns_matrix[ticker] = equity_data[ticker].pct_change()\n",
    "\n",
    "pct_chg_returns_matrix.dropna(axis=0, inplace=True) # drop na values\n",
    "pct_chg_returns_matrix.index = [datetime.strptime(dt, '%Y-%M-%d').date() \n",
    "                                for dt in pct_chg_returns_matrix.index]\n",
    "pct_chg_returns_matrix.head()"
   ]
  },
  {
   "cell_type": "markdown",
   "metadata": {},
   "source": [
    "##### Compute the Covariance Matrix of Daily Returns"
   ]
  },
  {
   "cell_type": "code",
   "execution_count": 27,
   "metadata": {},
   "outputs": [],
   "source": [
    "def covariance_returns(returns_i, expected_return_i, returns_j, expected_return_j):\n",
    "    \"\"\"\n",
    "    Function build the covariance matrix of returns\n",
    "    Inputs:\n",
    "    returns_i: returns of asset i\n",
    "    expected_return_i: the expected return of asset i\n",
    "    returns_j: returns of asset j\n",
    "    expected_return_j: the expected return of asset j\n",
    "    \"\"\"\n",
    "    T = (~returns_i.isna()).count()\n",
    "    return np.round(((1/(T-1)) * np.sum((returns_i - expected_return_i) * (returns_j - expected_return_j))) * 100, 4)"
   ]
  },
  {
   "cell_type": "code",
   "execution_count": 28,
   "metadata": {},
   "outputs": [],
   "source": [
    "# compute pre-requisite calculations: asset expected returns and variances\n",
    "expected_returns = np.array([expected_return(log_returns_matrix[ticker]) for ticker in log_returns_matrix.columns])\n",
    "variance_returns = np.array([var_return(log_returns_matrix[ticker], expected_returns[i]) for (i,ticker) in enumerate(log_returns_matrix.columns)])"
   ]
  },
  {
   "cell_type": "code",
   "execution_count": 29,
   "metadata": {},
   "outputs": [
    {
     "data": {
      "text/html": [
       "<style  type=\"text/css\" >\n",
       "    #T_e788ec3d_5a0a_11eb_bd1d_54e1ad2087edrow0_col0 {\n",
       "            background-color:  #3b4cc0;\n",
       "            color:  #f1f1f1;\n",
       "        }    #T_e788ec3d_5a0a_11eb_bd1d_54e1ad2087edrow0_col1 {\n",
       "            background-color:  #3b4cc0;\n",
       "            color:  #f1f1f1;\n",
       "        }    #T_e788ec3d_5a0a_11eb_bd1d_54e1ad2087edrow0_col2 {\n",
       "            background-color:  #3b4cc0;\n",
       "            color:  #f1f1f1;\n",
       "        }    #T_e788ec3d_5a0a_11eb_bd1d_54e1ad2087edrow1_col0 {\n",
       "            background-color:  #3b4cc0;\n",
       "            color:  #f1f1f1;\n",
       "        }    #T_e788ec3d_5a0a_11eb_bd1d_54e1ad2087edrow1_col1 {\n",
       "            background-color:  #bed2f6;\n",
       "            color:  #000000;\n",
       "        }    #T_e788ec3d_5a0a_11eb_bd1d_54e1ad2087edrow1_col2 {\n",
       "            background-color:  #92b4fe;\n",
       "            color:  #000000;\n",
       "        }    #T_e788ec3d_5a0a_11eb_bd1d_54e1ad2087edrow2_col0 {\n",
       "            background-color:  #3b4cc0;\n",
       "            color:  #f1f1f1;\n",
       "        }    #T_e788ec3d_5a0a_11eb_bd1d_54e1ad2087edrow2_col1 {\n",
       "            background-color:  #b40426;\n",
       "            color:  #f1f1f1;\n",
       "        }    #T_e788ec3d_5a0a_11eb_bd1d_54e1ad2087edrow2_col2 {\n",
       "            background-color:  #b40426;\n",
       "            color:  #f1f1f1;\n",
       "        }</style><table id=\"T_e788ec3d_5a0a_11eb_bd1d_54e1ad2087ed\" ><thead>    <tr>        <th class=\"blank level0\" ></th>        <th class=\"col_heading level0 col0\" >SPY</th>        <th class=\"col_heading level0 col1\" >AAPL</th>        <th class=\"col_heading level0 col2\" >INTC</th>    </tr></thead><tbody>\n",
       "                <tr>\n",
       "                        <th id=\"T_e788ec3d_5a0a_11eb_bd1d_54e1ad2087edlevel0_row0\" class=\"row_heading level0 row0\" >SPY</th>\n",
       "                        <td id=\"T_e788ec3d_5a0a_11eb_bd1d_54e1ad2087edrow0_col0\" class=\"data row0 col0\" >0.000000</td>\n",
       "                        <td id=\"T_e788ec3d_5a0a_11eb_bd1d_54e1ad2087edrow0_col1\" class=\"data row0 col1\" >0.000000</td>\n",
       "                        <td id=\"T_e788ec3d_5a0a_11eb_bd1d_54e1ad2087edrow0_col2\" class=\"data row0 col2\" >0.000000</td>\n",
       "            </tr>\n",
       "            <tr>\n",
       "                        <th id=\"T_e788ec3d_5a0a_11eb_bd1d_54e1ad2087edlevel0_row1\" class=\"row_heading level0 row1\" >AAPL</th>\n",
       "                        <td id=\"T_e788ec3d_5a0a_11eb_bd1d_54e1ad2087edrow1_col0\" class=\"data row1 col0\" >0.000000</td>\n",
       "                        <td id=\"T_e788ec3d_5a0a_11eb_bd1d_54e1ad2087edrow1_col1\" class=\"data row1 col1\" >0.097600</td>\n",
       "                        <td id=\"T_e788ec3d_5a0a_11eb_bd1d_54e1ad2087edrow1_col2\" class=\"data row1 col2\" >0.249000</td>\n",
       "            </tr>\n",
       "            <tr>\n",
       "                        <th id=\"T_e788ec3d_5a0a_11eb_bd1d_54e1ad2087edlevel0_row2\" class=\"row_heading level0 row2\" >INTC</th>\n",
       "                        <td id=\"T_e788ec3d_5a0a_11eb_bd1d_54e1ad2087edrow2_col0\" class=\"data row2 col0\" >0.000000</td>\n",
       "                        <td id=\"T_e788ec3d_5a0a_11eb_bd1d_54e1ad2087edrow2_col1\" class=\"data row2 col1\" >0.249000</td>\n",
       "                        <td id=\"T_e788ec3d_5a0a_11eb_bd1d_54e1ad2087edrow2_col2\" class=\"data row2 col2\" >0.941300</td>\n",
       "            </tr>\n",
       "    </tbody></table>"
      ],
      "text/plain": [
       "<pandas.io.formats.style.Styler at 0x262e85f7910>"
      ]
     },
     "execution_count": 29,
     "metadata": {},
     "output_type": "execute_result"
    }
   ],
   "source": [
    "# compute the covariance matrix using daily log returns\n",
    "n = len(log_returns_matrix.columns) # number of assets\n",
    "cov_matrix = np.zeros(n**2).reshape(n,n) # covariance matrix has size n x n\n",
    "\n",
    "for i in range(1, n):\n",
    "    for j in range(1, n):\n",
    "        if i == j:\n",
    "            cov_matrix[i,j] = var_return(log_returns_matrix.iloc[:,i], expected_returns[i-1])\n",
    "        else:\n",
    "            cov_matrix[i,j] = covariance_returns(log_returns_matrix.iloc[:,i], expected_returns[i-1],\n",
    "                                                 log_returns_matrix.iloc[:,j], expected_returns[j-1])\n",
    "\n",
    "cov_matrix = pd.DataFrame(cov_matrix, index=log_returns_matrix.columns, columns=log_returns_matrix.columns)\n",
    "cov_matrix.style.background_gradient(cmap='coolwarm')"
   ]
  },
  {
   "cell_type": "markdown",
   "metadata": {},
   "source": [
    "##### Compute the Correlation Matrix of Daily Returns"
   ]
  },
  {
   "cell_type": "code",
   "execution_count": 30,
   "metadata": {},
   "outputs": [],
   "source": [
    "# compute correlation coefficient\n",
    "def correlation_matrix(covariance, std_i, std_j, i, j):\n",
    "    \"\"\"\n",
    "    Function builds the correlation matrix of returns\n",
    "    Inputs:\n",
    "    covariance: the covariance between assets i and j\n",
    "    std_i: the standard deviation of asset i\n",
    "    std_j: the standard deviation of asset j\n",
    "    i: the index of asset i\n",
    "    j: the index of asset j\n",
    "    \"\"\"\n",
    "    if i == j:\n",
    "        return 1\n",
    "    else:\n",
    "        return covariance / (std_i * std_j)"
   ]
  },
  {
   "cell_type": "code",
   "execution_count": 31,
   "metadata": {},
   "outputs": [
    {
     "data": {
      "text/html": [
       "<style  type=\"text/css\" >\n",
       "    #T_e7944390_5a0a_11eb_8e3d_54e1ad2087edrow0_col0 {\n",
       "            background-color:  #b40426;\n",
       "            color:  #f1f1f1;\n",
       "        }    #T_e7944390_5a0a_11eb_8e3d_54e1ad2087edrow0_col1 {\n",
       "            background-color:  #3b4cc0;\n",
       "            color:  #f1f1f1;\n",
       "        }    #T_e7944390_5a0a_11eb_8e3d_54e1ad2087edrow0_col2 {\n",
       "            background-color:  #3b4cc0;\n",
       "            color:  #f1f1f1;\n",
       "        }    #T_e7944390_5a0a_11eb_8e3d_54e1ad2087edrow1_col0 {\n",
       "            background-color:  #3b4cc0;\n",
       "            color:  #f1f1f1;\n",
       "        }    #T_e7944390_5a0a_11eb_8e3d_54e1ad2087edrow1_col1 {\n",
       "            background-color:  #b40426;\n",
       "            color:  #f1f1f1;\n",
       "        }    #T_e7944390_5a0a_11eb_8e3d_54e1ad2087edrow1_col2 {\n",
       "            background-color:  #cd423b;\n",
       "            color:  #f1f1f1;\n",
       "        }    #T_e7944390_5a0a_11eb_8e3d_54e1ad2087edrow2_col0 {\n",
       "            background-color:  #3b4cc0;\n",
       "            color:  #f1f1f1;\n",
       "        }    #T_e7944390_5a0a_11eb_8e3d_54e1ad2087edrow2_col1 {\n",
       "            background-color:  #cd423b;\n",
       "            color:  #f1f1f1;\n",
       "        }    #T_e7944390_5a0a_11eb_8e3d_54e1ad2087edrow2_col2 {\n",
       "            background-color:  #b40426;\n",
       "            color:  #f1f1f1;\n",
       "        }</style><table id=\"T_e7944390_5a0a_11eb_8e3d_54e1ad2087ed\" ><thead>    <tr>        <th class=\"blank level0\" ></th>        <th class=\"col_heading level0 col0\" >SPY</th>        <th class=\"col_heading level0 col1\" >AAPL</th>        <th class=\"col_heading level0 col2\" >INTC</th>    </tr></thead><tbody>\n",
       "                <tr>\n",
       "                        <th id=\"T_e7944390_5a0a_11eb_8e3d_54e1ad2087edlevel0_row0\" class=\"row_heading level0 row0\" >SPY</th>\n",
       "                        <td id=\"T_e7944390_5a0a_11eb_8e3d_54e1ad2087edrow0_col0\" class=\"data row0 col0\" >1.000000</td>\n",
       "                        <td id=\"T_e7944390_5a0a_11eb_8e3d_54e1ad2087edrow0_col1\" class=\"data row0 col1\" >0.000000</td>\n",
       "                        <td id=\"T_e7944390_5a0a_11eb_8e3d_54e1ad2087edrow0_col2\" class=\"data row0 col2\" >0.000000</td>\n",
       "            </tr>\n",
       "            <tr>\n",
       "                        <th id=\"T_e7944390_5a0a_11eb_8e3d_54e1ad2087edlevel0_row1\" class=\"row_heading level0 row1\" >AAPL</th>\n",
       "                        <td id=\"T_e7944390_5a0a_11eb_8e3d_54e1ad2087edrow1_col0\" class=\"data row1 col0\" >0.000000</td>\n",
       "                        <td id=\"T_e7944390_5a0a_11eb_8e3d_54e1ad2087edrow1_col1\" class=\"data row1 col1\" >1.000000</td>\n",
       "                        <td id=\"T_e7944390_5a0a_11eb_8e3d_54e1ad2087edrow1_col2\" class=\"data row1 col2\" >0.926297</td>\n",
       "            </tr>\n",
       "            <tr>\n",
       "                        <th id=\"T_e7944390_5a0a_11eb_8e3d_54e1ad2087edlevel0_row2\" class=\"row_heading level0 row2\" >INTC</th>\n",
       "                        <td id=\"T_e7944390_5a0a_11eb_8e3d_54e1ad2087edrow2_col0\" class=\"data row2 col0\" >0.000000</td>\n",
       "                        <td id=\"T_e7944390_5a0a_11eb_8e3d_54e1ad2087edrow2_col1\" class=\"data row2 col1\" >0.926297</td>\n",
       "                        <td id=\"T_e7944390_5a0a_11eb_8e3d_54e1ad2087edrow2_col2\" class=\"data row2 col2\" >1.000000</td>\n",
       "            </tr>\n",
       "    </tbody></table>"
      ],
      "text/plain": [
       "<pandas.io.formats.style.Styler at 0x262e8c97280>"
      ]
     },
     "execution_count": 31,
     "metadata": {},
     "output_type": "execute_result"
    }
   ],
   "source": [
    "# compute the correlation matrix using daily log returns\n",
    "cor_matrix = np.zeros(n**2).reshape(n,n) # covariance matrix has size n x n\n",
    "\n",
    "for i in range(0, n):\n",
    "    for j in range(0, n):\n",
    "        cov_returns = cov_matrix.iloc[i,j]\n",
    "        std_dev_i = np.sqrt(variance_returns[i-1])\n",
    "        std_dev_j = np.sqrt(variance_returns[j-1])\n",
    "        cor_matrix[i,j] = correlation_matrix(cov_returns, std_dev_i, std_dev_j, i, j)\n",
    "\n",
    "cor_matrix = pd.DataFrame(cor_matrix, index=log_returns_matrix.columns, columns=log_returns_matrix.columns)\n",
    "cor_matrix.style.background_gradient(cmap='coolwarm')"
   ]
  },
  {
   "cell_type": "markdown",
   "metadata": {},
   "source": [
    "##### Exploratory Data Analysis"
   ]
  },
  {
   "cell_type": "code",
   "execution_count": 32,
   "metadata": {},
   "outputs": [
    {
     "data": {
      "text/html": [
       "<div>\n",
       "<style scoped>\n",
       "    .dataframe tbody tr th:only-of-type {\n",
       "        vertical-align: middle;\n",
       "    }\n",
       "\n",
       "    .dataframe tbody tr th {\n",
       "        vertical-align: top;\n",
       "    }\n",
       "\n",
       "    .dataframe thead th {\n",
       "        text-align: right;\n",
       "    }\n",
       "</style>\n",
       "<table border=\"1\" class=\"dataframe\">\n",
       "  <thead>\n",
       "    <tr style=\"text-align: right;\">\n",
       "      <th></th>\n",
       "      <th>SPY</th>\n",
       "      <th>AAPL</th>\n",
       "      <th>INTC</th>\n",
       "    </tr>\n",
       "  </thead>\n",
       "  <tbody>\n",
       "    <tr>\n",
       "      <th>count</th>\n",
       "      <td>3210.000000</td>\n",
       "      <td>3210.000000</td>\n",
       "      <td>3210.000000</td>\n",
       "    </tr>\n",
       "    <tr>\n",
       "      <th>mean</th>\n",
       "      <td>-0.000252</td>\n",
       "      <td>-0.000956</td>\n",
       "      <td>-0.000341</td>\n",
       "    </tr>\n",
       "    <tr>\n",
       "      <th>std</th>\n",
       "      <td>0.012249</td>\n",
       "      <td>0.019694</td>\n",
       "      <td>0.018322</td>\n",
       "    </tr>\n",
       "    <tr>\n",
       "      <th>min</th>\n",
       "      <td>-0.135577</td>\n",
       "      <td>-0.130194</td>\n",
       "      <td>-0.111988</td>\n",
       "    </tr>\n",
       "    <tr>\n",
       "      <th>25%</th>\n",
       "      <td>-0.005568</td>\n",
       "      <td>-0.011039</td>\n",
       "      <td>-0.009548</td>\n",
       "    </tr>\n",
       "    <tr>\n",
       "      <th>50%</th>\n",
       "      <td>-0.000582</td>\n",
       "      <td>-0.001002</td>\n",
       "      <td>-0.000624</td>\n",
       "    </tr>\n",
       "    <tr>\n",
       "      <th>75%</th>\n",
       "      <td>0.003965</td>\n",
       "      <td>0.007799</td>\n",
       "      <td>0.008740</td>\n",
       "    </tr>\n",
       "    <tr>\n",
       "      <th>max</th>\n",
       "      <td>0.103637</td>\n",
       "      <td>0.197470</td>\n",
       "      <td>0.132210</td>\n",
       "    </tr>\n",
       "  </tbody>\n",
       "</table>\n",
       "</div>"
      ],
      "text/plain": [
       "               SPY         AAPL         INTC\n",
       "count  3210.000000  3210.000000  3210.000000\n",
       "mean     -0.000252    -0.000956    -0.000341\n",
       "std       0.012249     0.019694     0.018322\n",
       "min      -0.135577    -0.130194    -0.111988\n",
       "25%      -0.005568    -0.011039    -0.009548\n",
       "50%      -0.000582    -0.001002    -0.000624\n",
       "75%       0.003965     0.007799     0.008740\n",
       "max       0.103637     0.197470     0.132210"
      ]
     },
     "execution_count": 32,
     "metadata": {},
     "output_type": "execute_result"
    }
   ],
   "source": [
    "# quick descriptive attributes of the daily log returns data set\n",
    "log_returns_matrix.describe()"
   ]
  },
  {
   "cell_type": "code",
   "execution_count": 33,
   "metadata": {},
   "outputs": [
    {
     "data": {
      "image/png": "[encoded data removed]",
      "text/plain": [
       "<Figure size 864x432 with 1 Axes>"
      ]
     },
     "metadata": {
      "needs_background": "light"
     },
     "output_type": "display_data"
    }
   ],
   "source": [
    "# box plot illustrating the range of each asset's returns\n",
    "log_returns_matrix.boxplot(figsize=(12,6))\n",
    "plt.title(\"Boxplots for Asset Returns\")\n",
    "plt.xlabel(\"Asset\")\n",
    "plt.show()"
   ]
  },
  {
   "cell_type": "markdown",
   "metadata": {},
   "source": [
    "##### Visualization of Market Returns over Time (using SPY as proxy)"
   ]
  },
  {
   "cell_type": "code",
   "execution_count": 34,
   "metadata": {},
   "outputs": [],
   "source": [
    "# compute 20-day and 50-day rolling averages\n",
    "mkt_twenty_day_rolling_avg = log_returns_matrix[\"SPY\"].rolling(window=20).mean()\n",
    "mkt_fifty_day_rolling_avg = log_returns_matrix[\"SPY\"].rolling(window=50).mean()"
   ]
  },
  {
   "cell_type": "code",
   "execution_count": 35,
   "metadata": {},
   "outputs": [
    {
     "data": {
      "image/png": "[encoded data removed]",
      "text/plain": [
       "<Figure size 864x432 with 2 Axes>"
      ]
     },
     "metadata": {
      "needs_background": "light"
     },
     "output_type": "display_data"
    }
   ],
   "source": [
    "# plot market returns and historical prices\n",
    "x = log_returns_matrix.index\n",
    "y1 = log_returns_matrix[\"SPY\"].values\n",
    "y2 = mkt_twenty_day_rolling_avg.values\n",
    "y3 = mkt_fifty_day_rolling_avg.values\n",
    "y4 = equity_data[\"SPY\"].values\n",
    "\n",
    "start_date = x[0]\n",
    "end_date = x[-1]\n",
    "\n",
    "fig, ax1 = plt.subplots(figsize=(12,6))\n",
    "#ax1.set_xticklabels(pd.date_range(start_date, end_date, freq='M').date)\n",
    "plt.title('Market Returns SPY from {} - {}'.format(start_date, end_date))\n",
    "\n",
    "ax1.set_xlabel('Date'); ax1.set_ylabel('Returns', color='blue')\n",
    "line1 = ax1.plot(y1, color='blue', label='Market Returns')\n",
    "line2 = ax1.plot(y2, color='green', label='SPY 20-day Rolling Avg')\n",
    "line3 = ax1.plot(y3, color='purple', label='SPY 50-day Rolling Avg')\n",
    "\n",
    "ax2 = ax1.twinx(); ax2.set_ylabel('Price');\n",
    "line4 = ax2.plot(y4, color=\"orange\", label=\"Market Prices\")\n",
    "\n",
    "handle1, label1 = ax1.get_legend_handles_labels()\n",
    "handle2, label2 = ax2.get_legend_handles_labels()\n",
    "ax1.legend(handle1+handle2, label1+label2, loc='upper left')\n",
    "\n",
    "plt.savefig('../Output/Market_Returns_SPY_{}_{}_{}.png'.format(start_date, end_date, date.today()))\n",
    "plt.show()"
   ]
  },
  {
   "cell_type": "markdown",
   "metadata": {},
   "source": [
    "##### Export Output"
   ]
  },
  {
   "cell_type": "code",
   "execution_count": 36,
   "metadata": {},
   "outputs": [],
   "source": [
    "# export to excel\n",
    "with pd.ExcelWriter(\"../Output/Returns_Covariance_Correlation_{}.xlsx\".format(date.today())) as output:\n",
    "    equity_data.to_excel(output, sheet_name=\"Equity_Data\")\n",
    "    log_returns_matrix.to_excel(output, sheet_name=\"Daily_Log_Returns_Matrix\")\n",
    "    cov_matrix.style.background_gradient(cmap='coolwarm').to_excel(output, sheet_name=\"Covariance_Matrix\")\n",
    "    cor_matrix.style.background_gradient(cmap='coolwarm').to_excel(output, sheet_name=\"Correlation_Matrix\")"
   ]
  },
  {
   "cell_type": "code",
   "execution_count": null,
   "metadata": {},
   "outputs": [],
   "source": []
  }
 ],
 "metadata": {
  "kernelspec": {
   "display_name": "Python 3",
   "language": "python",
   "name": "python3"
  },
  "language_info": {
   "codemirror_mode": {
    "name": "ipython",
    "version": 3
   },
   "file_extension": ".py",
   "mimetype": "text/x-python",
   "name": "python",
   "nbconvert_exporter": "python",
   "pygments_lexer": "ipython3",
   "version": "3.8.3"
  }
 },
 "nbformat": 4,
 "nbformat_minor": 4
}
