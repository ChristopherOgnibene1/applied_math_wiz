{
 "cells": [
  {
   "cell_type": "markdown",
   "metadata": {},
   "source": [
    "#### Portfolio Analytics\n",
    "- Created: 2021.02.07"
   ]
  },
  {
   "cell_type": "code",
   "execution_count": 1,
   "metadata": {},
   "outputs": [],
   "source": [
    "# import libraries\n",
    "from library_functions import compute_expected_return\n",
    "from library_functions import compute_var_return\n",
    "from library_functions import compute_covariance\n",
    "from library_functions import compute_correlation_coefficient\n",
    "\n",
    "import pandas as pd\n",
    "import numpy as np\n",
    "from datetime import date, datetime"
   ]
  },
  {
   "cell_type": "code",
   "execution_count": 2,
   "metadata": {},
   "outputs": [
    {
     "data": {
      "text/html": [
       "<div>\n",
       "<style scoped>\n",
       "    .dataframe tbody tr th:only-of-type {\n",
       "        vertical-align: middle;\n",
       "    }\n",
       "\n",
       "    .dataframe tbody tr th {\n",
       "        vertical-align: top;\n",
       "    }\n",
       "\n",
       "    .dataframe thead th {\n",
       "        text-align: right;\n",
       "    }\n",
       "</style>\n",
       "<table border=\"1\" class=\"dataframe\">\n",
       "  <thead>\n",
       "    <tr style=\"text-align: right;\">\n",
       "      <th></th>\n",
       "      <th>SPY</th>\n",
       "      <th>AAPL</th>\n",
       "      <th>INTC</th>\n",
       "    </tr>\n",
       "    <tr>\n",
       "      <th>Date</th>\n",
       "      <th></th>\n",
       "      <th></th>\n",
       "      <th></th>\n",
       "    </tr>\n",
       "  </thead>\n",
       "  <tbody>\n",
       "    <tr>\n",
       "      <th>2007-03-01</th>\n",
       "      <td>140.509995</td>\n",
       "      <td>3.109286</td>\n",
       "      <td>19.590000</td>\n",
       "    </tr>\n",
       "    <tr>\n",
       "      <th>2007-03-02</th>\n",
       "      <td>138.669998</td>\n",
       "      <td>3.050357</td>\n",
       "      <td>19.219999</td>\n",
       "    </tr>\n",
       "    <tr>\n",
       "      <th>2007-03-05</th>\n",
       "      <td>137.350006</td>\n",
       "      <td>3.082857</td>\n",
       "      <td>19.110001</td>\n",
       "    </tr>\n",
       "    <tr>\n",
       "      <th>2007-03-06</th>\n",
       "      <td>139.699997</td>\n",
       "      <td>3.149643</td>\n",
       "      <td>19.400000</td>\n",
       "    </tr>\n",
       "    <tr>\n",
       "      <th>2007-03-07</th>\n",
       "      <td>139.559998</td>\n",
       "      <td>3.132857</td>\n",
       "      <td>19.120001</td>\n",
       "    </tr>\n",
       "  </tbody>\n",
       "</table>\n",
       "</div>"
      ],
      "text/plain": [
       "                   SPY      AAPL       INTC\n",
       "Date                                       \n",
       "2007-03-01  140.509995  3.109286  19.590000\n",
       "2007-03-02  138.669998  3.050357  19.219999\n",
       "2007-03-05  137.350006  3.082857  19.110001\n",
       "2007-03-06  139.699997  3.149643  19.400000\n",
       "2007-03-07  139.559998  3.132857  19.120001"
      ]
     },
     "execution_count": 2,
     "metadata": {},
     "output_type": "execute_result"
    }
   ],
   "source": [
    "# Import Data\n",
    "equity_data = pd.read_excel(\"Output/Equity_Data_2021-01-18.xlsx\", sheet_name=\"Equity_Data\", index_col=\"Date\")\n",
    "equity_data.head()"
   ]
  },
  {
   "cell_type": "code",
   "execution_count": 3,
   "metadata": {},
   "outputs": [
    {
     "data": {
      "text/html": [
       "<div>\n",
       "<style scoped>\n",
       "    .dataframe tbody tr th:only-of-type {\n",
       "        vertical-align: middle;\n",
       "    }\n",
       "\n",
       "    .dataframe tbody tr th {\n",
       "        vertical-align: top;\n",
       "    }\n",
       "\n",
       "    .dataframe thead th {\n",
       "        text-align: right;\n",
       "    }\n",
       "</style>\n",
       "<table border=\"1\" class=\"dataframe\">\n",
       "  <thead>\n",
       "    <tr style=\"text-align: right;\">\n",
       "      <th></th>\n",
       "      <th>SPY</th>\n",
       "      <th>AAPL</th>\n",
       "      <th>INTC</th>\n",
       "    </tr>\n",
       "  </thead>\n",
       "  <tbody>\n",
       "    <tr>\n",
       "      <th>2007-01-02</th>\n",
       "      <td>0.013182</td>\n",
       "      <td>0.019134</td>\n",
       "      <td>0.019068</td>\n",
       "    </tr>\n",
       "    <tr>\n",
       "      <th>2007-01-05</th>\n",
       "      <td>0.009565</td>\n",
       "      <td>-0.010598</td>\n",
       "      <td>0.005740</td>\n",
       "    </tr>\n",
       "    <tr>\n",
       "      <th>2007-01-06</th>\n",
       "      <td>-0.016965</td>\n",
       "      <td>-0.021432</td>\n",
       "      <td>-0.015061</td>\n",
       "    </tr>\n",
       "    <tr>\n",
       "      <th>2007-01-07</th>\n",
       "      <td>0.001003</td>\n",
       "      <td>0.005344</td>\n",
       "      <td>0.014538</td>\n",
       "    </tr>\n",
       "    <tr>\n",
       "      <th>2007-01-08</th>\n",
       "      <td>-0.008420</td>\n",
       "      <td>-0.003187</td>\n",
       "      <td>-0.005737</td>\n",
       "    </tr>\n",
       "  </tbody>\n",
       "</table>\n",
       "</div>"
      ],
      "text/plain": [
       "                 SPY      AAPL      INTC\n",
       "2007-01-02  0.013182  0.019134  0.019068\n",
       "2007-01-05  0.009565 -0.010598  0.005740\n",
       "2007-01-06 -0.016965 -0.021432 -0.015061\n",
       "2007-01-07  0.001003  0.005344  0.014538\n",
       "2007-01-08 -0.008420 -0.003187 -0.005737"
      ]
     },
     "execution_count": 3,
     "metadata": {},
     "output_type": "execute_result"
    }
   ],
   "source": [
    "# Compute matrix of log returns\n",
    "# pre-processing: fill any 'NA' values with the prior non-NA value\n",
    "equity_data.fillna(method='ffill', inplace=True)\n",
    "\n",
    "# Compute returns matrix\n",
    "returns_matrix = pd.DataFrame(index=equity_data.index)\n",
    "for ticker in equity_data.columns:\n",
    "    returns_matrix[ticker] = np.log(equity_data[ticker].shift(1) / equity_data[ticker])\n",
    "\n",
    "returns_matrix.dropna(axis=0, inplace=True) # drop na values\n",
    "returns_matrix.index = [datetime.strptime(dt, '%Y-%M-%d').date() \n",
    "                            for dt in returns_matrix.index]\n",
    "returns_matrix.head()"
   ]
  },
  {
   "cell_type": "code",
   "execution_count": 4,
   "metadata": {},
   "outputs": [
    {
     "data": {
      "text/plain": [
       "array([-0.02519678, -0.09562935, -0.03408655])"
      ]
     },
     "execution_count": 4,
     "metadata": {},
     "output_type": "execute_result"
    }
   ],
   "source": [
    "# compute expected returns for each asset\n",
    "expected_returns = np.array([compute_expected_return(returns_matrix[ticker]) for ticker in returns_matrix.columns])\n",
    "expected_returns"
   ]
  },
  {
   "cell_type": "code",
   "execution_count": 5,
   "metadata": {},
   "outputs": [
    {
     "data": {
      "text/plain": [
       "array([0.07724643, 0.93536465, 0.14748382])"
      ]
     },
     "execution_count": 5,
     "metadata": {},
     "output_type": "execute_result"
    }
   ],
   "source": [
    "# compute expected returns for each asset\n",
    "variance_returns = np.array([compute_var_return(returns_matrix[ticker], expected_returns[i]) for (i,ticker) in enumerate(returns_matrix.columns)])\n",
    "variance_returns"
   ]
  },
  {
   "cell_type": "code",
   "execution_count": 6,
   "metadata": {},
   "outputs": [
    {
     "name": "stdout",
     "output_type": "stream",
     "text": [
      "Average portfolio return: -0.05163756391934097\n"
     ]
    }
   ],
   "source": [
    "# Average portfolio return\n",
    "average_portfolio_return = np.average(expected_returns)\n",
    "print(\"Average portfolio return: {}\".format(average_portfolio_return))"
   ]
  },
  {
   "cell_type": "code",
   "execution_count": 7,
   "metadata": {},
   "outputs": [
    {
     "name": "stdout",
     "output_type": "stream",
     "text": [
      "Average market return: -0.025196781880489166\n"
     ]
    }
   ],
   "source": [
    "# Average return of S&P (using SPY ETF as a proxy)\n",
    "average_market_return = expected_returns[0]\n",
    "print(\"Average market return: {}\".format(average_market_return))"
   ]
  },
  {
   "cell_type": "code",
   "execution_count": 8,
   "metadata": {},
   "outputs": [
    {
     "name": "stdout",
     "output_type": "stream",
     "text": [
      "Average portfolio volatility: 0.6218507045991832\n"
     ]
    }
   ],
   "source": [
    "# Average portfolio volatility (standard deviation)\n",
    "average_portfolio_stdev = np.sqrt(np.average(variance_returns))\n",
    "print(\"Average portfolio volatility: {}\".format(average_portfolio_stdev))"
   ]
  },
  {
   "cell_type": "code",
   "execution_count": 9,
   "metadata": {},
   "outputs": [
    {
     "name": "stdout",
     "output_type": "stream",
     "text": [
      "Portfolio Sharpe Ratio: -0.1634436741289084\n"
     ]
    }
   ],
   "source": [
    "# Portfolio Sharpe Ratio (using an arbitrary risk-free rate)\n",
    "average_risk_free_rate = 0.05 # arbitrary set\n",
    "portfolio_sharpe_ratio = (average_portfolio_return - average_risk_free_rate) / average_portfolio_stdev\n",
    "print(\"Portfolio Sharpe Ratio: {}\".format(portfolio_sharpe_ratio))"
   ]
  },
  {
   "cell_type": "code",
   "execution_count": 10,
   "metadata": {},
   "outputs": [
    {
     "data": {
      "text/html": [
       "<style  type=\"text/css\" >\n",
       "    #T_1e1e51e8_6991_11eb_90fd_54e1ad2087edrow0_col0 {\n",
       "            background-color:  #3b4cc0;\n",
       "            color:  #f1f1f1;\n",
       "        }    #T_1e1e51e8_6991_11eb_90fd_54e1ad2087edrow0_col1 {\n",
       "            background-color:  #3b4cc0;\n",
       "            color:  #f1f1f1;\n",
       "        }    #T_1e1e51e8_6991_11eb_90fd_54e1ad2087edrow0_col2 {\n",
       "            background-color:  #3b4cc0;\n",
       "            color:  #f1f1f1;\n",
       "        }    #T_1e1e51e8_6991_11eb_90fd_54e1ad2087edrow1_col0 {\n",
       "            background-color:  #3b4cc0;\n",
       "            color:  #f1f1f1;\n",
       "        }    #T_1e1e51e8_6991_11eb_90fd_54e1ad2087edrow1_col1 {\n",
       "            background-color:  #b40426;\n",
       "            color:  #f1f1f1;\n",
       "        }    #T_1e1e51e8_6991_11eb_90fd_54e1ad2087edrow1_col2 {\n",
       "            background-color:  #3b4cc0;\n",
       "            color:  #f1f1f1;\n",
       "        }    #T_1e1e51e8_6991_11eb_90fd_54e1ad2087edrow2_col0 {\n",
       "            background-color:  #3b4cc0;\n",
       "            color:  #f1f1f1;\n",
       "        }    #T_1e1e51e8_6991_11eb_90fd_54e1ad2087edrow2_col1 {\n",
       "            background-color:  #4257c9;\n",
       "            color:  #f1f1f1;\n",
       "        }    #T_1e1e51e8_6991_11eb_90fd_54e1ad2087edrow2_col2 {\n",
       "            background-color:  #b40426;\n",
       "            color:  #f1f1f1;\n",
       "        }</style><table id=\"T_1e1e51e8_6991_11eb_90fd_54e1ad2087ed\" ><thead>    <tr>        <th class=\"blank level0\" ></th>        <th class=\"col_heading level0 col0\" >SPY</th>        <th class=\"col_heading level0 col1\" >AAPL</th>        <th class=\"col_heading level0 col2\" >INTC</th>    </tr></thead><tbody>\n",
       "                <tr>\n",
       "                        <th id=\"T_1e1e51e8_6991_11eb_90fd_54e1ad2087edlevel0_row0\" class=\"row_heading level0 row0\" >SPY</th>\n",
       "                        <td id=\"T_1e1e51e8_6991_11eb_90fd_54e1ad2087edrow0_col0\" class=\"data row0 col0\" >0.000000</td>\n",
       "                        <td id=\"T_1e1e51e8_6991_11eb_90fd_54e1ad2087edrow0_col1\" class=\"data row0 col1\" >0.000000</td>\n",
       "                        <td id=\"T_1e1e51e8_6991_11eb_90fd_54e1ad2087edrow0_col2\" class=\"data row0 col2\" >0.000000</td>\n",
       "            </tr>\n",
       "            <tr>\n",
       "                        <th id=\"T_1e1e51e8_6991_11eb_90fd_54e1ad2087edlevel0_row1\" class=\"row_heading level0 row1\" >AAPL</th>\n",
       "                        <td id=\"T_1e1e51e8_6991_11eb_90fd_54e1ad2087edrow1_col0\" class=\"data row1 col0\" >0.000000</td>\n",
       "                        <td id=\"T_1e1e51e8_6991_11eb_90fd_54e1ad2087edrow1_col1\" class=\"data row1 col1\" >0.097565</td>\n",
       "                        <td id=\"T_1e1e51e8_6991_11eb_90fd_54e1ad2087edrow1_col2\" class=\"data row1 col2\" >0.002490</td>\n",
       "            </tr>\n",
       "            <tr>\n",
       "                        <th id=\"T_1e1e51e8_6991_11eb_90fd_54e1ad2087edlevel0_row2\" class=\"row_heading level0 row2\" >INTC</th>\n",
       "                        <td id=\"T_1e1e51e8_6991_11eb_90fd_54e1ad2087edrow2_col0\" class=\"data row2 col0\" >0.000000</td>\n",
       "                        <td id=\"T_1e1e51e8_6991_11eb_90fd_54e1ad2087edrow2_col1\" class=\"data row2 col1\" >0.002490</td>\n",
       "                        <td id=\"T_1e1e51e8_6991_11eb_90fd_54e1ad2087edrow2_col2\" class=\"data row2 col2\" >0.941844</td>\n",
       "            </tr>\n",
       "    </tbody></table>"
      ],
      "text/plain": [
       "<pandas.io.formats.style.Styler at 0x26bcf8a0fa0>"
      ]
     },
     "execution_count": 10,
     "metadata": {},
     "output_type": "execute_result"
    }
   ],
   "source": [
    "# Correlation matrix\n",
    "num_assets = len(returns_matrix.columns)\n",
    "cov_matrix = np.zeros(num_assets**2).reshape(num_assets,num_assets)\n",
    "\n",
    "for i in range(1, num_assets):\n",
    "    for j in range(1, num_assets):\n",
    "        if i == j:\n",
    "            cov_matrix[i,j] = compute_var_return(returns_matrix.iloc[:,i], expected_returns[i-1])\n",
    "        else:\n",
    "            cov_matrix[i,j] = compute_covariance(returns_matrix.iloc[:,i], expected_returns[i-1],\n",
    "                                                 returns_matrix.iloc[:,j], expected_returns[j-1])\n",
    "\n",
    "# covariance matrix\n",
    "cov_matrix = pd.DataFrame(cov_matrix, index=returns_matrix.columns, columns=returns_matrix.columns)\n",
    "cov_matrix.style.background_gradient(cmap='coolwarm')"
   ]
  },
  {
   "cell_type": "code",
   "execution_count": 11,
   "metadata": {},
   "outputs": [
    {
     "data": {
      "text/html": [
       "<style  type=\"text/css\" >\n",
       "    #T_1e23a454_6991_11eb_9f28_54e1ad2087edrow0_col0 {\n",
       "            background-color:  #b40426;\n",
       "            color:  #f1f1f1;\n",
       "        }    #T_1e23a454_6991_11eb_9f28_54e1ad2087edrow0_col1 {\n",
       "            background-color:  #3b4cc0;\n",
       "            color:  #f1f1f1;\n",
       "        }    #T_1e23a454_6991_11eb_9f28_54e1ad2087edrow0_col2 {\n",
       "            background-color:  #3b4cc0;\n",
       "            color:  #f1f1f1;\n",
       "        }    #T_1e23a454_6991_11eb_9f28_54e1ad2087edrow1_col0 {\n",
       "            background-color:  #3b4cc0;\n",
       "            color:  #f1f1f1;\n",
       "        }    #T_1e23a454_6991_11eb_9f28_54e1ad2087edrow1_col1 {\n",
       "            background-color:  #b40426;\n",
       "            color:  #f1f1f1;\n",
       "        }    #T_1e23a454_6991_11eb_9f28_54e1ad2087edrow1_col2 {\n",
       "            background-color:  #3d50c3;\n",
       "            color:  #f1f1f1;\n",
       "        }    #T_1e23a454_6991_11eb_9f28_54e1ad2087edrow2_col0 {\n",
       "            background-color:  #3b4cc0;\n",
       "            color:  #f1f1f1;\n",
       "        }    #T_1e23a454_6991_11eb_9f28_54e1ad2087edrow2_col1 {\n",
       "            background-color:  #3d50c3;\n",
       "            color:  #f1f1f1;\n",
       "        }    #T_1e23a454_6991_11eb_9f28_54e1ad2087edrow2_col2 {\n",
       "            background-color:  #b40426;\n",
       "            color:  #f1f1f1;\n",
       "        }</style><table id=\"T_1e23a454_6991_11eb_9f28_54e1ad2087ed\" ><thead>    <tr>        <th class=\"blank level0\" ></th>        <th class=\"col_heading level0 col0\" >SPY</th>        <th class=\"col_heading level0 col1\" >AAPL</th>        <th class=\"col_heading level0 col2\" >INTC</th>    </tr></thead><tbody>\n",
       "                <tr>\n",
       "                        <th id=\"T_1e23a454_6991_11eb_9f28_54e1ad2087edlevel0_row0\" class=\"row_heading level0 row0\" >SPY</th>\n",
       "                        <td id=\"T_1e23a454_6991_11eb_9f28_54e1ad2087edrow0_col0\" class=\"data row0 col0\" >1.000000</td>\n",
       "                        <td id=\"T_1e23a454_6991_11eb_9f28_54e1ad2087edrow0_col1\" class=\"data row0 col1\" >0.000000</td>\n",
       "                        <td id=\"T_1e23a454_6991_11eb_9f28_54e1ad2087edrow0_col2\" class=\"data row0 col2\" >0.000000</td>\n",
       "            </tr>\n",
       "            <tr>\n",
       "                        <th id=\"T_1e23a454_6991_11eb_9f28_54e1ad2087edlevel0_row1\" class=\"row_heading level0 row1\" >AAPL</th>\n",
       "                        <td id=\"T_1e23a454_6991_11eb_9f28_54e1ad2087edrow1_col0\" class=\"data row1 col0\" >0.000000</td>\n",
       "                        <td id=\"T_1e23a454_6991_11eb_9f28_54e1ad2087edrow1_col1\" class=\"data row1 col1\" >1.000000</td>\n",
       "                        <td id=\"T_1e23a454_6991_11eb_9f28_54e1ad2087edrow1_col2\" class=\"data row1 col2\" >0.009265</td>\n",
       "            </tr>\n",
       "            <tr>\n",
       "                        <th id=\"T_1e23a454_6991_11eb_9f28_54e1ad2087edlevel0_row2\" class=\"row_heading level0 row2\" >INTC</th>\n",
       "                        <td id=\"T_1e23a454_6991_11eb_9f28_54e1ad2087edrow2_col0\" class=\"data row2 col0\" >0.000000</td>\n",
       "                        <td id=\"T_1e23a454_6991_11eb_9f28_54e1ad2087edrow2_col1\" class=\"data row2 col1\" >0.009265</td>\n",
       "                        <td id=\"T_1e23a454_6991_11eb_9f28_54e1ad2087edrow2_col2\" class=\"data row2 col2\" >1.000000</td>\n",
       "            </tr>\n",
       "    </tbody></table>"
      ],
      "text/plain": [
       "<pandas.io.formats.style.Styler at 0x26bd06c02e0>"
      ]
     },
     "execution_count": 11,
     "metadata": {},
     "output_type": "execute_result"
    }
   ],
   "source": [
    "# Correlation coefficient matrix\n",
    "\n",
    "# Alternative method: using corr() method\n",
    "#c = returns_matrix.corr(method='pearson')\n",
    "#c.style.background_gradient(cmap='coolwarm')\n",
    "\n",
    "# compute correlation matrix\n",
    "cor_matrix = np.zeros(num_assets**2).reshape(num_assets,num_assets)\n",
    "\n",
    "for i in range(0, num_assets):\n",
    "    for j in range(0, num_assets):\n",
    "        cov_returns = cov_matrix.iloc[i,j]\n",
    "        stdev_i = np.sqrt(variance_returns[i-1])\n",
    "        stdev_j = np.sqrt(variance_returns[j-1])\n",
    "        cor_matrix[i,j] = compute_correlation_coefficient(cov_returns, stdev_i, stdev_j, i, j)\n",
    "\n",
    "cor_matrix = pd.DataFrame(cor_matrix, index=returns_matrix.columns, columns=returns_matrix.columns)\n",
    "cor_matrix.style.background_gradient(cmap='coolwarm')"
   ]
  },
  {
   "cell_type": "code",
   "execution_count": 12,
   "metadata": {},
   "outputs": [
    {
     "data": {
      "text/html": [
       "<div>\n",
       "<style scoped>\n",
       "    .dataframe tbody tr th:only-of-type {\n",
       "        vertical-align: middle;\n",
       "    }\n",
       "\n",
       "    .dataframe tbody tr th {\n",
       "        vertical-align: top;\n",
       "    }\n",
       "\n",
       "    .dataframe thead th {\n",
       "        text-align: right;\n",
       "    }\n",
       "</style>\n",
       "<table border=\"1\" class=\"dataframe\">\n",
       "  <thead>\n",
       "    <tr style=\"text-align: right;\">\n",
       "      <th></th>\n",
       "      <th>Expected Return</th>\n",
       "      <th>Variance</th>\n",
       "    </tr>\n",
       "    <tr>\n",
       "      <th>Asset</th>\n",
       "      <th></th>\n",
       "      <th></th>\n",
       "    </tr>\n",
       "  </thead>\n",
       "  <tbody>\n",
       "    <tr>\n",
       "      <th>SPY</th>\n",
       "      <td>-0.025197</td>\n",
       "      <td>0.077246</td>\n",
       "    </tr>\n",
       "    <tr>\n",
       "      <th>AAPL</th>\n",
       "      <td>-0.095629</td>\n",
       "      <td>0.935365</td>\n",
       "    </tr>\n",
       "    <tr>\n",
       "      <th>INTC</th>\n",
       "      <td>-0.034087</td>\n",
       "      <td>0.147484</td>\n",
       "    </tr>\n",
       "  </tbody>\n",
       "</table>\n",
       "</div>"
      ],
      "text/plain": [
       "       Expected Return  Variance\n",
       "Asset                           \n",
       "SPY          -0.025197  0.077246\n",
       "AAPL         -0.095629  0.935365\n",
       "INTC         -0.034087  0.147484"
      ]
     },
     "execution_count": 12,
     "metadata": {},
     "output_type": "execute_result"
    }
   ],
   "source": [
    "performance_results = pd.DataFrame({'Expected Return' : expected_returns,\n",
    "                                    'Variance' : variance_returns}, index=returns_matrix.columns)\n",
    "performance_results.index.name = 'Asset'\n",
    "performance_results"
   ]
  },
  {
   "cell_type": "markdown",
   "metadata": {},
   "source": [
    "##### Export Output"
   ]
  },
  {
   "cell_type": "code",
   "execution_count": 13,
   "metadata": {},
   "outputs": [],
   "source": [
    "# export to excel\n",
    "with pd.ExcelWriter(\"Output/Portfolio_Analysis_{}.xlsx\".format(date.today())) as output:\n",
    "    returns_matrix.to_excel(output, sheet_name=\"Log_Returns\")\n",
    "    performance_results.to_excel(output, sheet_name=\"Performance\")\n",
    "    cov_matrix.style.background_gradient(cmap='coolwarm').to_excel(output, sheet_name=\"Covariance Matrix\")\n",
    "    cor_matrix.style.background_gradient(cmap='coolwarm').to_excel(output, sheet_name=\"Correlation Matrix\")"
   ]
  }
 ],
 "metadata": {
  "kernelspec": {
   "display_name": "Python 3",
   "language": "python",
   "name": "python3"
  },
  "language_info": {
   "codemirror_mode": {
    "name": "ipython",
    "version": 3
   },
   "file_extension": ".py",
   "mimetype": "text/x-python",
   "name": "python",
   "nbconvert_exporter": "python",
   "pygments_lexer": "ipython3",
   "version": "3.8.3"
  }
 },
 "nbformat": 4,
 "nbformat_minor": 4
}
